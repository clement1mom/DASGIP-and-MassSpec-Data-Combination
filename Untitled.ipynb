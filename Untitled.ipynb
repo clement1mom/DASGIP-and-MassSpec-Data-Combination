{
 "cells": [
  {
   "cell_type": "code",
   "execution_count": null,
   "id": "aab214f5",
   "metadata": {},
   "outputs": [],
   "source": [
    "import pandas as pd\n",
    "import os\n",
    "import tkinter as tk\n",
    "from tkinter import filedialog as fd\n",
    "from datetime import datetime"
   ]
  },
  {
   "cell_type": "code",
   "execution_count": null,
   "id": "9b971c90",
   "metadata": {},
   "outputs": [],
   "source": [
    "root = tk.Tk()\n",
    "files_csv = fd.askopenfilenames()\n",
    "root.destroy()"
   ]
  },
  {
   "cell_type": "code",
   "execution_count": null,
   "id": "758bdc07",
   "metadata": {},
   "outputs": [],
   "source": [
    "files_csv[0]"
   ]
  },
  {
   "cell_type": "code",
   "execution_count": null,
   "id": "1dc8eb40",
   "metadata": {},
   "outputs": [],
   "source": [
    "offgas = pd.ExcelFile(files_csv[0])\n",
    "online = pd.ExcelFile(files_csv[1])"
   ]
  },
  {
   "cell_type": "code",
   "execution_count": null,
   "id": "f89c605b",
   "metadata": {},
   "outputs": [],
   "source": [
    "# List multiple sheets from offgas and online data excel\n",
    "offgasData_list = offgas.sheet_names\n",
    "OnlineData_list = list(i for i in online.sheet_names if \"Data\" in i)\n",
    "OnlineData_list = OnlineData_list[1:]"
   ]
  },
  {
   "cell_type": "code",
   "execution_count": null,
   "id": "b3201bb2",
   "metadata": {},
   "outputs": [],
   "source": [
    "# Function: creating table based on sheet name\n",
    "def making_table(index):\n",
    "    for sheet in index: \n",
    "        df = pd.read_excel(index,sheet)\n",
    "        globals()[index] = df\n",
    "    return globals()[index]"
   ]
  },
  {
   "cell_type": "code",
   "execution_count": null,
   "id": "ccbb4fa5",
   "metadata": {},
   "outputs": [],
   "source": [
    "offgasData = {}\n",
    "for sheet in offgasData_list:\n",
    "    df = pd.read_excel(offgas, sheet)\n",
    "    #globals()[sheet] = df\n",
    "    offgasData[sheet] = df"
   ]
  },
  {
   "cell_type": "code",
   "execution_count": null,
   "id": "9cbdd34f",
   "metadata": {},
   "outputs": [],
   "source": [
    "OnlineData = {}\n",
    "for sheet in OnlineData_list:\n",
    "    df = pd.read_excel(online, sheet)\n",
    "    #globals()[sheet] = df\n",
    "    OnlineData[sheet] =df"
   ]
  },
  {
   "cell_type": "code",
   "execution_count": null,
   "id": "f5669692",
   "metadata": {},
   "outputs": [],
   "source": [
    "# Convert to date&time format\n",
    "for i in OnlineData:\n",
    "    OnlineData[i][\"Timestamp\"] = pd.to_datetime(OnlineData[i][\"Timestamp\"])\n",
    "for i in offgasData:\n",
    "    offgasData[i][\"Time&Date\"] = pd.to_datetime(offgasData[i][\"Time&Date\"])\n",
    "\n"
   ]
  },
  {
   "cell_type": "code",
   "execution_count": null,
   "id": "304a509c",
   "metadata": {},
   "outputs": [],
   "source": [
    "OnlineData.keys()"
   ]
  },
  {
   "cell_type": "code",
   "execution_count": null,
   "id": "208a7699",
   "metadata": {},
   "outputs": [],
   "source": [
    "offgasData.keys()"
   ]
  },
  {
   "cell_type": "code",
   "execution_count": null,
   "id": "c019c2f0",
   "metadata": {},
   "outputs": [],
   "source": [
    "summary = pd.ExcelWriter('graph.xlsx', engine='xlsxwriter')\n",
    "\n",
    "for i in OnlineData_list:\n",
    "    a = i[4:] + \" OUT\"\n",
    "    if a in offgasData:\n",
    "        OnlineData_key = i\n",
    "        offgasData_key = a\n",
    "        new_table = merge_table(OnlineData_key, offgasData_key)\n",
    "        new_table.to_excel(summary,\n",
    "                  sheet_name = OnlineData_key)"
   ]
  },
  {
   "cell_type": "code",
   "execution_count": null,
   "id": "355ab9db",
   "metadata": {},
   "outputs": [],
   "source": [
    "summary.save()"
   ]
  },
  {
   "cell_type": "code",
   "execution_count": null,
   "id": "91e1db8e",
   "metadata": {},
   "outputs": [],
   "source": [
    "def merge_table(key1, key2):\n",
    "    table = pd.merge_asof(OnlineData[key1], offgasData[key2], left_on = \"Timestamp\", right_on = \"Time&Date\", direction = \"nearest\")\n",
    "    globals()[key1] = table\n",
    "    return globals()[key1]\n",
    "    "
   ]
  },
  {
   "cell_type": "code",
   "execution_count": null,
   "id": "98d956a4",
   "metadata": {},
   "outputs": [],
   "source": []
  },
  {
   "cell_type": "code",
   "execution_count": null,
   "id": "45f0dff1",
   "metadata": {},
   "outputs": [],
   "source": [
    "merge_table = pd.merge_asof(OnlineData[\"Data1\"], offgasData[\"1 OUT\"], left_on = \"Timestamp\", right_on = \"Time&Date\", direction = \"nearest\")"
   ]
  },
  {
   "cell_type": "code",
   "execution_count": null,
   "id": "6d96bdc7",
   "metadata": {},
   "outputs": [],
   "source": [
    "merge_table.to_excel(\"summary.xlsx\",\n",
    "             sheet_name='Sheet_name_1')  "
   ]
  },
  {
   "cell_type": "code",
   "execution_count": null,
   "id": "efd1a17f",
   "metadata": {},
   "outputs": [],
   "source": []
  },
  {
   "cell_type": "code",
   "execution_count": null,
   "id": "38bea80c",
   "metadata": {},
   "outputs": [],
   "source": [
    "df1 = pd.read_excel(offgas,\"10 OUT\")\n",
    "df2 = pd.read_excel(online, \"Data10\")"
   ]
  },
  {
   "cell_type": "code",
   "execution_count": null,
   "id": "a36036c5",
   "metadata": {},
   "outputs": [],
   "source": [
    "df1[\"Time&Date\"] = pd.to_datetime(df1[\"Time&Date\"])"
   ]
  },
  {
   "cell_type": "code",
   "execution_count": null,
   "id": "27740e8a",
   "metadata": {},
   "outputs": [],
   "source": [
    "df2[\"Timestamp\"] = pd.to_datetime(df2[\"Timestamp\"])"
   ]
  },
  {
   "cell_type": "code",
   "execution_count": null,
   "id": "b547f34c",
   "metadata": {},
   "outputs": [],
   "source": [
    "df1[\"Timestamp\"] = df1[\"Time&Date\"]"
   ]
  },
  {
   "cell_type": "code",
   "execution_count": null,
   "id": "20649b93",
   "metadata": {},
   "outputs": [],
   "source": [
    "merge_table = pd.merge_asof(df2,df1,on=\"Timestamp\",direction=\"nearest\")"
   ]
  },
  {
   "cell_type": "code",
   "execution_count": null,
   "id": "e3561dc1",
   "metadata": {},
   "outputs": [],
   "source": [
    "merge_table.to_excel(\"output3.xlsx\",\n",
    "             sheet_name='Sheet_name_1')  "
   ]
  }
 ],
 "metadata": {
  "kernelspec": {
   "display_name": "Python 3",
   "language": "python",
   "name": "python3"
  },
  "language_info": {
   "codemirror_mode": {
    "name": "ipython",
    "version": 3
   },
   "file_extension": ".py",
   "mimetype": "text/x-python",
   "name": "python",
   "nbconvert_exporter": "python",
   "pygments_lexer": "ipython3",
   "version": "3.8.8"
  }
 },
 "nbformat": 4,
 "nbformat_minor": 5
}
