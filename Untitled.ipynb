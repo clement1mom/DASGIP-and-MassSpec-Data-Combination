{
 "cells": [
  {
   "cell_type": "code",
   "execution_count": 77,
   "id": "aab214f5",
   "metadata": {},
   "outputs": [],
   "source": [
    "import pandas as pd\n",
    "import os\n",
    "import tkinter as tk\n",
    "from tkinter import filedialog as fd\n",
    "from datetime import datetime"
   ]
  },
  {
   "cell_type": "code",
   "execution_count": 78,
   "id": "9b971c90",
   "metadata": {},
   "outputs": [],
   "source": [
    "root = tk.Tk()\n",
    "files_csv = fd.askopenfilenames()\n",
    "root.destroy()"
   ]
  },
  {
   "cell_type": "code",
   "execution_count": 79,
   "id": "758bdc07",
   "metadata": {},
   "outputs": [
    {
     "data": {
      "text/plain": [
       "'C:/Users/951963/OneDrive - DSM/Desktop/Python/Offgas ethanol data/Nx1007pi22 offgasdata.xlsx'"
      ]
     },
     "execution_count": 79,
     "metadata": {},
     "output_type": "execute_result"
    }
   ],
   "source": [
    "files_csv[0]"
   ]
  },
  {
   "cell_type": "code",
   "execution_count": 80,
   "id": "1dc8eb40",
   "metadata": {},
   "outputs": [],
   "source": [
    "offgas = pd.ExcelFile(files_csv[0])\n",
    "online = pd.ExcelFile(files_csv[1])"
   ]
  },
  {
   "cell_type": "code",
   "execution_count": 81,
   "id": "f89c605b",
   "metadata": {},
   "outputs": [],
   "source": [
    "# List multiple sheets from offgas and online data excel\n",
    "offgasData_list = offgas.sheet_names\n",
    "OnlineData_list = list(i for i in online.sheet_names if \"Data\" in i)\n",
    "OnlineData_list = OnlineData_list[1:]"
   ]
  },
  {
   "cell_type": "code",
   "execution_count": 94,
   "id": "b3201bb2",
   "metadata": {},
   "outputs": [],
   "source": [
    "# Function: creating table based on sheet name\n",
    "def making_table(index):\n",
    "    for sheet in index: \n",
    "        df = pd.read_excel(index,sheet)\n",
    "        globals()[index] = df\n",
    "    return globals()[index]"
   ]
  },
  {
   "cell_type": "code",
   "execution_count": 96,
   "id": "ccbb4fa5",
   "metadata": {},
   "outputs": [],
   "source": [
    "offgasData = {}\n",
    "for sheet in offgasData_list:\n",
    "    df = pd.read_excel(offgas, sheet)\n",
    "    #globals()[sheet] = df\n",
    "    offgasData[sheet] = df"
   ]
  },
  {
   "cell_type": "code",
   "execution_count": 101,
   "id": "9cbdd34f",
   "metadata": {},
   "outputs": [],
   "source": [
    "OnlineData = {}\n",
    "for sheet in OnlineData_list:\n",
    "    df = pd.read_excel(online, sheet)\n",
    "    #globals()[sheet] = df\n",
    "    OnlineData[sheet] =df"
   ]
  },
  {
   "cell_type": "code",
   "execution_count": 110,
   "id": "f5669692",
   "metadata": {},
   "outputs": [],
   "source": [
    "# Convert to date&time format\n",
    "for i in OnlineData:\n",
    "    OnlineData[i][\"Timestamp\"] = pd.to_datetime(OnlineData[i][\"Timestamp\"])\n",
    "for i in offgasData:\n",
    "    offgasData[i][\"Time&Date\"] = pd.to_datetime(offgasData[i][\"Time&Date\"])\n",
    "\n"
   ]
  },
  {
   "cell_type": "code",
   "execution_count": 111,
   "id": "304a509c",
   "metadata": {},
   "outputs": [
    {
     "data": {
      "text/plain": [
       "0      2022-10-07 11:43:54.940\n",
       "1      2022-10-07 11:51:57.550\n",
       "2      2022-10-07 11:59:57.910\n",
       "3      2022-10-07 12:08:05.600\n",
       "4      2022-10-07 12:16:05.330\n",
       "                 ...          \n",
       "2876   2022-10-20 07:55:00.400\n",
       "2877   2022-10-20 08:03:52.550\n",
       "2878   2022-10-20 08:12:36.860\n",
       "2879   2022-10-20 08:21:28.170\n",
       "2880   2022-10-20 08:30:12.920\n",
       "Name: Time&Date, Length: 2881, dtype: datetime64[ns]"
      ]
     },
     "execution_count": 111,
     "metadata": {},
     "output_type": "execute_result"
    }
   ],
   "source": []
  },
  {
   "cell_type": "code",
   "execution_count": 22,
   "id": "38bea80c",
   "metadata": {},
   "outputs": [],
   "source": [
    "df1 = pd.read_excel(offgas,\"10 OUT\")\n",
    "df2 = pd.read_excel(online, \"Data10\")"
   ]
  },
  {
   "cell_type": "code",
   "execution_count": 28,
   "id": "a36036c5",
   "metadata": {},
   "outputs": [],
   "source": [
    "df1[\"Time&Date\"] = pd.to_datetime(df1[\"Time&Date\"])"
   ]
  },
  {
   "cell_type": "code",
   "execution_count": 25,
   "id": "27740e8a",
   "metadata": {},
   "outputs": [],
   "source": [
    "df2[\"Timestamp\"] = pd.to_datetime(df2[\"Timestamp\"])"
   ]
  },
  {
   "cell_type": "code",
   "execution_count": 38,
   "id": "b547f34c",
   "metadata": {},
   "outputs": [],
   "source": [
    "df1[\"Timestamp\"] = df1[\"Time&Date\"]"
   ]
  },
  {
   "cell_type": "code",
   "execution_count": 48,
   "id": "20649b93",
   "metadata": {},
   "outputs": [],
   "source": [
    "merge_table = pd.merge_asof(df2,df1,on=\"Timestamp\",direction=\"nearest\")"
   ]
  },
  {
   "cell_type": "code",
   "execution_count": 49,
   "id": "e3561dc1",
   "metadata": {},
   "outputs": [],
   "source": [
    "merge_table.to_excel(\"output3.xlsx\",\n",
    "             sheet_name='Sheet_name_1')  "
   ]
  }
 ],
 "metadata": {
  "kernelspec": {
   "display_name": "Python 3",
   "language": "python",
   "name": "python3"
  },
  "language_info": {
   "codemirror_mode": {
    "name": "ipython",
    "version": 3
   },
   "file_extension": ".py",
   "mimetype": "text/x-python",
   "name": "python",
   "nbconvert_exporter": "python",
   "pygments_lexer": "ipython3",
   "version": "3.8.8"
  }
 },
 "nbformat": 4,
 "nbformat_minor": 5
}
