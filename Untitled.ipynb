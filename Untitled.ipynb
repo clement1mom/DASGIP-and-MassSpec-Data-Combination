{
 "cells": [
  {
   "cell_type": "code",
   "execution_count": null,
   "id": "aab214f5",
   "metadata": {},
   "outputs": [],
   "source": [
    "import pandas as pd\n",
    "import os\n",
    "import tkinter as tk\n",
    "from tkinter import filedialog as fd\n",
    "from datetime import datetime\n",
    "import numpy as np"
   ]
  },
  {
   "cell_type": "code",
   "execution_count": null,
   "id": "9b971c90",
   "metadata": {},
   "outputs": [],
   "source": [
    "root = tk.Tk()\n",
    "files_csv = fd.askopenfilenames()\n",
    "root.destroy()"
   ]
  },
  {
   "cell_type": "code",
   "execution_count": null,
   "id": "1dc8eb40",
   "metadata": {},
   "outputs": [],
   "source": [
    "offgas = pd.ExcelFile(files_csv[0])\n",
    "online = pd.ExcelFile(files_csv[1])"
   ]
  },
  {
   "cell_type": "code",
   "execution_count": null,
   "id": "f89c605b",
   "metadata": {},
   "outputs": [],
   "source": [
    "# List multiple sheets from offgas and online data excel\n",
    "offgasData_list = offgas.sheet_names\n",
    "OnlineData_list = list(i for i in online.sheet_names if \"Data\" in i)\n",
    "OnlineData_list = OnlineData_list[1:]"
   ]
  },
  {
   "cell_type": "code",
   "execution_count": null,
   "id": "b3201bb2",
   "metadata": {},
   "outputs": [],
   "source": [
    "# Remove this\n",
    "# Function: creating table based on sheet name\n",
    "def making_table(index):\n",
    "    for sheet in index: \n",
    "        df = pd.read_excel(index,sheet)\n",
    "        globals()[index] = df\n",
    "    return globals()[index]"
   ]
  },
  {
   "cell_type": "code",
   "execution_count": null,
   "id": "ccbb4fa5",
   "metadata": {},
   "outputs": [],
   "source": [
    "offgasData = {}\n",
    "for sheet in offgasData_list:\n",
    "    df = pd.read_excel(offgas, sheet)\n",
    "    #globals()[sheet] = df\n",
    "    offgasData[sheet] = df"
   ]
  },
  {
   "cell_type": "code",
   "execution_count": null,
   "id": "9cbdd34f",
   "metadata": {},
   "outputs": [],
   "source": [
    "OnlineData = {}\n",
    "for sheet in OnlineData_list:\n",
    "    df = pd.read_excel(online, sheet)\n",
    "    #globals()[sheet] = df\n",
    "    OnlineData[sheet] =df"
   ]
  },
  {
   "cell_type": "code",
   "execution_count": null,
   "id": "f5669692",
   "metadata": {},
   "outputs": [],
   "source": [
    "# Convert to date&time format\n",
    "for i in OnlineData:\n",
    "    OnlineData[i][\"Timestamp\"] = pd.to_datetime(OnlineData[i][\"Timestamp\"])\n",
    "for i in offgasData:\n",
    "    offgasData[i][\"Time&Date\"] = pd.to_datetime(offgasData[i][\"Time&Date\"])\n",
    "\n"
   ]
  },
  {
   "cell_type": "code",
   "execution_count": null,
   "id": "304a509c",
   "metadata": {},
   "outputs": [],
   "source": [
    "OnlineData.keys()"
   ]
  },
  {
   "cell_type": "code",
   "execution_count": null,
   "id": "208a7699",
   "metadata": {},
   "outputs": [],
   "source": [
    "offgasData.keys()"
   ]
  },
  {
   "cell_type": "code",
   "execution_count": null,
   "id": "c374f2cb",
   "metadata": {},
   "outputs": [],
   "source": [
    "def merge_table(key1, key2):\n",
    "    table = pd.merge_asof(OnlineData[key1].sort_values(by = \"Timestamp\"), offgasData[key2].sort_values(by = \"Time&Date\"), left_on = \"Timestamp\", right_on = \"Time&Date\", direction = \"nearest\")\n",
    "    globals()[key1] = table\n",
    "    return globals()[key1]\n",
    "    "
   ]
  },
  {
   "cell_type": "code",
   "execution_count": null,
   "id": "dfb6728e",
   "metadata": {},
   "outputs": [],
   "source": [
    "dic = {}\n",
    "for i in OnlineData_list:\n",
    "    a = i[4:] + \" OUT\"\n",
    "    if a in offgasData:\n",
    "        OnlineData_key = i\n",
    "        offgasData_key = a\n",
    "        new_table = merge_table(OnlineData_key, offgasData_key)\n",
    "        dic[OnlineData_key] = new_table"
   ]
  },
  {
   "cell_type": "code",
   "execution_count": null,
   "id": "b0ad3550",
   "metadata": {},
   "outputs": [],
   "source": [
    "# Try Data1 for data calculation\n",
    "table1 = dic[\"Data1\"].rename(columns={'Nitrogen': 'Nitrogen OUT', 'Oxygen': 'Oxygen OUT', 'Argon':'Argon OUT', 'Carbon Dioxide':'Carbon Dioxide OUT'})\n"
   ]
  },
  {
   "cell_type": "code",
   "execution_count": null,
   "id": "4fa4d8dc",
   "metadata": {},
   "outputs": [],
   "source": [
    "table1['Nitrogen IN'] = table1['Nitrogen OUT'].iloc[1]\n",
    "table1['Oxygen IN'] = table1['Oxygen OUT'].iloc[1]\n",
    "table1['Argon IN'] = table1['Argon OUT'].iloc[1]\n",
    "table1['Carbon Dioxide IN'] = table1['Carbon Dioxide OUT'].iloc[1]"
   ]
  },
  {
   "cell_type": "code",
   "execution_count": null,
   "id": "8e4fb510",
   "metadata": {},
   "outputs": [],
   "source": [
    "def calculation(data):\n",
    "    \n",
    "    ID = data[4:]\n",
    "    VCPV = \"VC\" + ID + \".PV [mL]\"\n",
    "    VPV = \"V\" + ID + \".VPV [mL]\"\n",
    "    FPV = \"F\" + ID + \".PV [sL/h]\"\n",
    "    \n",
    "    # Convert ethanol feed volume to weight\n",
    "    #new_table[\"MC1.PV [g]\"] = new_table['VC1.PV [mL]']*0.789\n",
    "\n",
    "    # Convert Broth volume to weight\n",
    "    #new_table[\"V1.MPV [g]\"] = new_table['V1.VPV [mL]']/1.15\n",
    "        \n",
    "    # CER_Calc (mmol/L-hr)\n",
    "    new_table[\"CER_Calc\"] = (10000 * new_table[FPV]/(new_table[VPV])) * (((new_table['Carbon Dioxide OUT'] * (new_table[\"Nitrogen IN\"]/new_table[\"Nitrogen OUT\"]))-new_table[\"Carbon Dioxide IN\"])/(0.08206 * (273+25)))   \n",
    "\n",
    "    # OUR_Calc (mmol/L-hr)\n",
    "    new_table[\"OUR_Calc\"] = (10000 * new_table[FPV]/(new_table[VPV]))*((new_table[\"Oxygen IN\"]-(new_table[\"Oxygen OUT\"]*(new_table[\"Nitrogen IN\"]/new_table[\"Nitrogen OUT\"])))/(0.08206*(273+25)))\n",
    "\n",
    "    return 0 "
   ]
  },
  {
   "cell_type": "code",
   "execution_count": null,
   "id": "b8b9c36b",
   "metadata": {},
   "outputs": [],
   "source": [
    "for i in OnlineData.keys():\n",
    "    new_table = dic[i].rename(columns={'Nitrogen': 'Nitrogen OUT', 'Oxygen': 'Oxygen OUT', 'Argon':'Argon OUT', 'Carbon Dioxide':'Carbon Dioxide OUT'})\n",
    "    new_table['Nitrogen IN'] = new_table['Nitrogen OUT'].iloc[1]\n",
    "    new_table['Oxygen IN'] = new_table['Oxygen OUT'].iloc[1]\n",
    "    new_table['Argon IN'] = new_table['Argon OUT'].iloc[1]\n",
    "    new_table['Carbon Dioxide IN'] = new_table['Carbon Dioxide OUT'].iloc[1]\n",
    "    calculation(i)\n",
    "    dic[i] = new_table\n",
    "   \n",
    "                                             \n",
    "                "
   ]
  },
  {
   "cell_type": "code",
   "execution_count": null,
   "id": "55b0a140",
   "metadata": {},
   "outputs": [],
   "source": [
    "# Final step: export table to excel\n",
    "summary = pd.ExcelWriter('test.xlsx', engine='xlsxwriter')\n",
    "\n",
    "for i in OnlineData.keys():\n",
    "        new_table = dic[i]\n",
    "        new_table.to_excel(summary, sheet_name = i)\n",
    "summary.save()"
   ]
  },
  {
   "cell_type": "code",
   "execution_count": null,
   "id": "4097d160",
   "metadata": {},
   "outputs": [],
   "source": []
  },
  {
   "cell_type": "code",
   "execution_count": null,
   "id": "8f90922e",
   "metadata": {},
   "outputs": [],
   "source": []
  },
  {
   "cell_type": "code",
   "execution_count": null,
   "id": "f205043e",
   "metadata": {},
   "outputs": [],
   "source": []
  },
  {
   "cell_type": "code",
   "execution_count": null,
   "id": "528a3ffd",
   "metadata": {},
   "outputs": [],
   "source": [
    "# Convert ethanol feed volume to weight\n",
    "table1[\"MC1.PV [g]\"] = table1['VC1.PV [mL]']*0.789\n",
    "\n",
    "# Convert Broth volume to weight\n",
    "table1[\"V1.MPV [g]\"] = table1['V1.VPV [mL]']/1.15\n",
    "        \n",
    "\n",
    "\n",
    "# CER_Calc (mmol/L-hr)\n",
    "table1[\"CER_Calc\"] = (10000 * table1[\"F1.PV [sL/h]\"]/(table1[\"V1.VPV [mL]\"])) * (((table1['Carbon Dioxide OUT'] * (table1[\"Nitrogen IN\"]/table1[\"Nitrogen OUT\"]))-table1[\"Carbon Dioxide IN\"])/(0.08206 * (273+25)))   \n",
    "\n",
    "# OUR_Calc (mmol/L-hr)\n",
    "table1[\"OUR_Calc\"] = (10000 * table1[\"F1.PV [sL/h]\"]/(table1[\"V1.VPV [mL]\"]))*((table1[\"Oxygen IN\"]-(table1[\"Oxygen OUT\"]*(table1[\"Nitrogen IN\"]/table1[\"Nitrogen OUT\"])))/(0.08206*(273+25)))\n",
    "\n",
    "# CER_Calc_new\n",
    "table1[\"OUR_Calc_new\"] = (10000 * table1[\"F1.PV [sL/h]\"]/(table1[\"V1.MPV [g]\"]))*((table1[\"Oxygen IN\"]-(table1[\"Oxygen OUT\"]*(table1[\"Nitrogen IN\"]/table1[\"Nitrogen OUT\"])))/(0.08206*(273+25)))\n"
   ]
  },
  {
   "cell_type": "code",
   "execution_count": null,
   "id": "801f407a",
   "metadata": {},
   "outputs": [],
   "source": []
  },
  {
   "cell_type": "code",
   "execution_count": null,
   "id": "64465b93",
   "metadata": {},
   "outputs": [],
   "source": []
  },
  {
   "cell_type": "code",
   "execution_count": null,
   "id": "fbdd0785",
   "metadata": {},
   "outputs": [],
   "source": []
  },
  {
   "cell_type": "code",
   "execution_count": null,
   "id": "7a2d865c",
   "metadata": {},
   "outputs": [],
   "source": [
    "table1.plot(x='Timestamp', y='OUR_Calc_new', kind='scatter')\n",
    "table1.plot(x='Timestamp', y='OUR_Calc', kind='scatter')"
   ]
  },
  {
   "cell_type": "code",
   "execution_count": null,
   "id": "1379f817",
   "metadata": {},
   "outputs": [],
   "source": []
  },
  {
   "cell_type": "code",
   "execution_count": null,
   "id": "c019c2f0",
   "metadata": {},
   "outputs": [],
   "source": [
    "# Final step: export table to excel\n",
    "summary = pd.ExcelWriter('graph.xlsx', engine='xlsxwriter')\n",
    "\n",
    "for i in OnlineData_list:\n",
    "    a = i[4:] + \" OUT\"\n",
    "    if a in offgasData:\n",
    "        OnlineData_key = i\n",
    "        offgasData_key = a\n",
    "        new_table = merge_table(OnlineData_key, offgasData_key)\n",
    "        new_table.to_excel(summary,\n",
    "                  sheet_name = OnlineData_key)\n",
    "summary.save()"
   ]
  },
  {
   "cell_type": "code",
   "execution_count": null,
   "id": "355ab9db",
   "metadata": {},
   "outputs": [],
   "source": []
  },
  {
   "cell_type": "code",
   "execution_count": null,
   "id": "7f6e289d",
   "metadata": {},
   "outputs": [],
   "source": []
  }
 ],
 "metadata": {
  "kernelspec": {
   "display_name": "Python 3",
   "language": "python",
   "name": "python3"
  },
  "language_info": {
   "codemirror_mode": {
    "name": "ipython",
    "version": 3
   },
   "file_extension": ".py",
   "mimetype": "text/x-python",
   "name": "python",
   "nbconvert_exporter": "python",
   "pygments_lexer": "ipython3",
   "version": "3.8.8"
  }
 },
 "nbformat": 4,
 "nbformat_minor": 5
}
