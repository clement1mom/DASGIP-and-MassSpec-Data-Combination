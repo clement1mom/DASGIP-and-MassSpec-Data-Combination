{
 "cells": [
  {
   "cell_type": "code",
   "execution_count": 1,
   "id": "aab214f5",
   "metadata": {},
   "outputs": [],
   "source": [
    "import pandas as pd\n",
    "import os\n",
    "import tkinter as tk\n",
    "from tkinter import filedialog as fd\n",
    "from datetime import datetime"
   ]
  },
  {
   "cell_type": "code",
   "execution_count": 2,
   "id": "9b971c90",
   "metadata": {},
   "outputs": [],
   "source": [
    "root = tk.Tk()\n",
    "files_csv = fd.askopenfilenames()\n",
    "root.destroy()"
   ]
  },
  {
   "cell_type": "code",
   "execution_count": null,
   "id": "758bdc07",
   "metadata": {},
   "outputs": [],
   "source": [
    "files_csv[0]"
   ]
  },
  {
   "cell_type": "code",
   "execution_count": 3,
   "id": "1dc8eb40",
   "metadata": {},
   "outputs": [],
   "source": [
    "offgas = pd.ExcelFile(files_csv[0])\n",
    "online = pd.ExcelFile(files_csv[1])"
   ]
  },
  {
   "cell_type": "code",
   "execution_count": 4,
   "id": "f89c605b",
   "metadata": {},
   "outputs": [],
   "source": [
    "# List multiple sheets from offgas and online data excel\n",
    "offgasData_list = offgas.sheet_names\n",
    "OnlineData_list = list(i for i in online.sheet_names if \"Data\" in i)\n",
    "OnlineData_list = OnlineData_list[1:]"
   ]
  },
  {
   "cell_type": "code",
   "execution_count": 5,
   "id": "b3201bb2",
   "metadata": {},
   "outputs": [],
   "source": [
    "# Remove this\n",
    "# Function: creating table based on sheet name\n",
    "def making_table(index):\n",
    "    for sheet in index: \n",
    "        df = pd.read_excel(index,sheet)\n",
    "        globals()[index] = df\n",
    "    return globals()[index]"
   ]
  },
  {
   "cell_type": "code",
   "execution_count": 6,
   "id": "ccbb4fa5",
   "metadata": {},
   "outputs": [],
   "source": [
    "offgasData = {}\n",
    "for sheet in offgasData_list:\n",
    "    df = pd.read_excel(offgas, sheet)\n",
    "    #globals()[sheet] = df\n",
    "    offgasData[sheet] = df"
   ]
  },
  {
   "cell_type": "code",
   "execution_count": 7,
   "id": "9cbdd34f",
   "metadata": {},
   "outputs": [],
   "source": [
    "OnlineData = {}\n",
    "for sheet in OnlineData_list:\n",
    "    df = pd.read_excel(online, sheet)\n",
    "    #globals()[sheet] = df\n",
    "    OnlineData[sheet] =df"
   ]
  },
  {
   "cell_type": "code",
   "execution_count": 8,
   "id": "f5669692",
   "metadata": {},
   "outputs": [],
   "source": [
    "# Convert to date&time format\n",
    "for i in OnlineData:\n",
    "    OnlineData[i][\"Timestamp\"] = pd.to_datetime(OnlineData[i][\"Timestamp\"])\n",
    "for i in offgasData:\n",
    "    offgasData[i][\"Time&Date\"] = pd.to_datetime(offgasData[i][\"Time&Date\"])\n",
    "\n"
   ]
  },
  {
   "cell_type": "code",
   "execution_count": 9,
   "id": "304a509c",
   "metadata": {},
   "outputs": [
    {
     "data": {
      "text/plain": [
       "dict_keys(['Data1', 'Data2', 'Data3', 'Data5', 'Data6', 'Data7', 'Data9', 'Data10', 'Data11'])"
      ]
     },
     "execution_count": 9,
     "metadata": {},
     "output_type": "execute_result"
    }
   ],
   "source": [
    "OnlineData.keys()"
   ]
  },
  {
   "cell_type": "code",
   "execution_count": 10,
   "id": "208a7699",
   "metadata": {},
   "outputs": [
    {
     "data": {
      "text/plain": [
       "dict_keys(['1 IN', '1 OUT', '2 IN', '2 OUT', '3 IN', '3 OUT', '5 IN', '5 OUT', '6 IN', '6 OUT', '7 IN', '7 OUT', '9 IN', '9 OUT', '10 IN', '10 OUT', '11 IN', '11 OUT'])"
      ]
     },
     "execution_count": 10,
     "metadata": {},
     "output_type": "execute_result"
    }
   ],
   "source": [
    "offgasData.keys()"
   ]
  },
  {
   "cell_type": "code",
   "execution_count": 11,
   "id": "c374f2cb",
   "metadata": {},
   "outputs": [],
   "source": [
    "def merge_table(key1, key2):\n",
    "    table = pd.merge_asof(OnlineData[key1].sort_values(by = \"Timestamp\"), offgasData[key2].sort_values(by = \"Time&Date\"), left_on = \"Timestamp\", right_on = \"Time&Date\", direction = \"nearest\")\n",
    "    globals()[key1] = table\n",
    "    return globals()[key1]\n",
    "    "
   ]
  },
  {
   "cell_type": "code",
   "execution_count": 12,
   "id": "dfb6728e",
   "metadata": {},
   "outputs": [],
   "source": [
    "dic = {}\n",
    "for i in OnlineData_list:\n",
    "    a = i[4:] + \" OUT\"\n",
    "    if a in offgasData:\n",
    "        OnlineData_key = i\n",
    "        offgasData_key = a\n",
    "        new_table = merge_table(OnlineData_key, offgasData_key)\n",
    "        dic[OnlineData_key] = new_table"
   ]
  },
  {
   "cell_type": "code",
   "execution_count": 13,
   "id": "b0ad3550",
   "metadata": {},
   "outputs": [],
   "source": [
    "# Try Data1 for data calculation\n",
    "table1 = dic[\"Data1\"].rename(columns={'Nitrogen': 'Nitrogen OUT', 'Oxygen': 'Oxygen OUT', 'Argon':'Argon OUT', 'Carbon Dioxide':'Carbon Dioxide OUT'})\n"
   ]
  },
  {
   "cell_type": "code",
   "execution_count": 14,
   "id": "4fa4d8dc",
   "metadata": {},
   "outputs": [],
   "source": [
    "table1['Nitrogen IN'] = table1['Nitrogen OUT'].iloc[1]\n",
    "table1['Oxygen IN'] = table1['Oxygen OUT'].iloc[1]\n",
    "table1['Argon IN'] = table1['Argon OUT'].iloc[1]\n",
    "table1['Carbon Dioxide IN'] = table1['Carbon Dioxide OUT'].iloc[1]"
   ]
  },
  {
   "cell_type": "code",
   "execution_count": 15,
   "id": "38b7667d",
   "metadata": {},
   "outputs": [
    {
     "data": {
      "text/plain": [
       "Index(['Timestamp', 'Duration', 'InoculationTime []', 'DO1.Out [%]',\n",
       "       'DO1.PV [%DO]', 'DO1.SP [%DO]', 'F1.PV [sL/h]', 'F1.SP [sL/h]',\n",
       "       'FA1.PV [mL/h]', 'FA1.SP [mL/h]', 'FAir1.PV [sL/h]', 'FAir1.SP [sL/h]',\n",
       "       'FB1.PV [mL/h]', 'FB1.SP [mL/h]', 'FC1.PV [mL/h]', 'FC1.SP [mL/h]',\n",
       "       'FCO21.PV [sL/h]', 'FCO21.SP [sL/h]', 'FD1.PV [mL/h]', 'FD1.SP [mL/h]',\n",
       "       'FN21.PV [sL/h]', 'FN21.SP [sL/h]', 'FO21.PV [sL/h]', 'FO21.SP [sL/h]',\n",
       "       'LoopA1.Out [%]', 'LoopA1.PV []', 'LoopA1.SP []', 'LoopB1.Out [%]',\n",
       "       'LoopB1.PV []', 'LoopB1.SP []', 'LoopC1.Out [%]', 'LoopC1.PV []',\n",
       "       'LoopC1.SP []', 'LoopD1.Out [%]', 'LoopD1.PV []', 'LoopD1.SP []',\n",
       "       'N1.PV [rpm]', 'N1.SP [rpm]', 'N1.TStirPV [mNm]',\n",
       "       'OfflineA1.ethanol bottle weight [g/L]', 'OfflineB1.C_glucose [g/L]',\n",
       "       'OfflineC1.C_PO4 [mg/L]', 'OfflineD1.C_NH4 [g/L]',\n",
       "       'OfflineE1.C_EtOH [mg/L]', 'OfflineF1.OfflineF []',\n",
       "       'OfflineG1.OfflineG []', 'OfflineH1.OfflineH []',\n",
       "       'OfflineI1.OfflineI []', 'OfflineJ1.OfflineJ []',\n",
       "       'OfflineK1.OfflineK []', 'OfflineL1.OfflineL []',\n",
       "       'OfflineM1.OfflineM []', 'OfflineN1.OfflineN []',\n",
       "       'OfflineO1.OfflineO []', 'OfflineP1.OfflineP []',\n",
       "       'OfflineQ1.OfflineQ []', 'OfflineR1.OfflineR []',\n",
       "       'OfflineS1.OfflineS []', 'OfflineT1.OfflineT []',\n",
       "       'OfflineU1.OfflineU []', 'OfflineV1.OfflineV []',\n",
       "       'OfflineW1.OfflineW []', 'OfflineX1.OfflineX []',\n",
       "       'OfflineY1.OfflineY []', 'OfflineZ1.OfflineZ []', 'pH1.Out [%]',\n",
       "       'pH1.PV [pH]', 'pH1.SP [pH]', 'T1.Out [%]', 'T1.PV [°C]', 'T1.SP [°C]',\n",
       "       'V1.VPV [mL]', 'VA1.PV [mL]', 'VB1.PV [mL]', 'VC1.PV [mL]',\n",
       "       'VD1.PV [mL]', 'XCO21.PV [%]', 'XCO21.SP [%]', 'XO21.PV [%]',\n",
       "       'XO21.SP [%]', 'Unnamed: 0', 'Time&Date', 'Nitrogen OUT', 'Oxygen OUT',\n",
       "       'Argon OUT', 'Carbon Dioxide OUT', 'Stream Flow Zero', 'Flow', 'mass28',\n",
       "       'mass32', 'mass40', 'mass44',\n",
       "       '                                                                                                                                                                                                                                                                                                                                                                                                                                                                                                                                                                                                                                                                                                                                                                                                                                                                                                                                                                                                                                                                                                                                                                                                                                                                                                                                                                                                                                                                                                                                                                                                                                                                                                                                                                                                                                                                                                                                                                                                                                                                                                                                                                                                                                                                                                                                                                                                                                                                                                                                                                                                                                                                                                                                                                                                                                                                                                                                                                                                                                                                                                                                                                                                                                                                                                                                                                                                                                                                                                                                                                                                                                                                                                                                                                                                                                                                                                                                                                                                                                                                                                                                                                                                                                                                                                                                                                                                                                                                                                                                                                                                                                                                                                                                                                                                                                                                                                                                                                                                                                                                                                                                                                                                                                                                                                                                                                                                                                                                                                                                                                                                                                                                                                                                                                                                                                                                                                                                                                                                                                                                                                                                                                                                                                                                                                                                                                                                                                                                                                                                                                                                                                                                                                                                                                                                                                                                                                                                                                                                                                                                                                                                                                                                                                                                                                                                                                                                                                                                                                                                                                                                                                                                                                                                                                                                                                                                                                                                                                                                                                                                                                                                                                                                                                                                                                                                                                                                         ',\n",
       "       'ID', 'Nitrogen IN', 'Oxygen IN', 'Argon IN', 'Carbon Dioxide IN'],\n",
       "      dtype='object')"
      ]
     },
     "execution_count": 15,
     "metadata": {},
     "output_type": "execute_result"
    }
   ],
   "source": [
    "table1.columns"
   ]
  },
  {
   "cell_type": "code",
   "execution_count": 24,
   "id": "528a3ffd",
   "metadata": {},
   "outputs": [],
   "source": [
    "# CER_Calc (mmol/L-hr)\n",
    "table1[\"CER_Calc\"] = (10000 * table1[\"F1.PV [sL/h]\"]/(table1[\"V1.VPV [mL]\"])) * (((table1['Carbon Dioxide OUT'] * (table1[\"Nitrogen IN\"]/table1[\"Nitrogen OUT\"]))-table1[\"Carbon Dioxide IN\"])/(0.08206 * (273+25)))   \n",
    "\n",
    "# OUR_Calc (mmol/L-hr)\n",
    "table1[\"OUR_Calc\"] = (10000 * table1[\"F1.PV [sL/h]\"]/(table1[\"V1.VPV [mL]\"]))*((table1[\"Oxygen IN\"]-(table1[\"Oxygen OUT\"]*(table1[\"Nitrogen IN\"]/table1[\"Nitrogen OUT\"])))/(0.08206*(273+25)))\n"
   ]
  },
  {
   "cell_type": "code",
   "execution_count": 25,
   "id": "7a2d865c",
   "metadata": {},
   "outputs": [
    {
     "data": {
      "text/plain": [
       "<AxesSubplot:xlabel='Timestamp', ylabel='OUR_Calc'>"
      ]
     },
     "execution_count": 25,
     "metadata": {},
     "output_type": "execute_result"
    },
    {
     "data": {
      "image/png": "[encoded data removed]",
      "text/plain": [
       "<Figure size 432x288 with 1 Axes>"
      ]
     },
     "metadata": {
      "needs_background": "light"
     },
     "output_type": "display_data"
    },
    {
     "data": {
      "image/png": "[encoded data removed]",
      "text/plain": [
       "<Figure size 432x288 with 1 Axes>"
      ]
     },
     "metadata": {
      "needs_background": "light"
     },
     "output_type": "display_data"
    }
   ],
   "source": [
    "table1.plot(x='Timestamp', y='CER_Calc', kind='scatter')\n",
    "table1.plot(x='Timestamp', y='OUR_Calc', kind='scatter')"
   ]
  },
  {
   "cell_type": "code",
   "execution_count": null,
   "id": "5b26b466",
   "metadata": {},
   "outputs": [],
   "source": []
  },
  {
   "cell_type": "code",
   "execution_count": null,
   "id": "17d204ac",
   "metadata": {},
   "outputs": [],
   "source": []
  },
  {
   "cell_type": "code",
   "execution_count": null,
   "id": "a0d29180",
   "metadata": {},
   "outputs": [],
   "source": [
    "dic[\"Data1\"].columns"
   ]
  },
  {
   "cell_type": "code",
   "execution_count": null,
   "id": "98f133ab",
   "metadata": {},
   "outputs": [],
   "source": []
  },
  {
   "cell_type": "code",
   "execution_count": null,
   "id": "1379f817",
   "metadata": {},
   "outputs": [],
   "source": []
  },
  {
   "cell_type": "code",
   "execution_count": null,
   "id": "c019c2f0",
   "metadata": {},
   "outputs": [],
   "source": [
    "# Final step: export table to excel\n",
    "summary = pd.ExcelWriter('graph.xlsx', engine='xlsxwriter')\n",
    "\n",
    "for i in OnlineData_list:\n",
    "    a = i[4:] + \" OUT\"\n",
    "    if a in offgasData:\n",
    "        OnlineData_key = i\n",
    "        offgasData_key = a\n",
    "        new_table = merge_table(OnlineData_key, offgasData_key)\n",
    "        new_table.to_excel(summary,\n",
    "                  sheet_name = OnlineData_key)\n",
    "summary.save()"
   ]
  },
  {
   "cell_type": "code",
   "execution_count": null,
   "id": "355ab9db",
   "metadata": {},
   "outputs": [],
   "source": []
  },
  {
   "cell_type": "code",
   "execution_count": null,
   "id": "91e1db8e",
   "metadata": {},
   "outputs": [],
   "source": []
  },
  {
   "cell_type": "code",
   "execution_count": null,
   "id": "98d956a4",
   "metadata": {},
   "outputs": [],
   "source": []
  },
  {
   "cell_type": "code",
   "execution_count": null,
   "id": "45f0dff1",
   "metadata": {},
   "outputs": [],
   "source": [
    "merge_table = pd.merge_asof(OnlineData[\"Data1\"], offgasData[\"1 OUT\"], left_on = \"Timestamp\", right_on = \"Time&Date\", direction = \"nearest\")"
   ]
  },
  {
   "cell_type": "code",
   "execution_count": null,
   "id": "6d96bdc7",
   "metadata": {},
   "outputs": [],
   "source": [
    "merge_table.to_excel(\"summary.xlsx\",\n",
    "             sheet_name='Sheet_name_1')  "
   ]
  },
  {
   "cell_type": "code",
   "execution_count": null,
   "id": "efd1a17f",
   "metadata": {},
   "outputs": [],
   "source": []
  },
  {
   "cell_type": "code",
   "execution_count": null,
   "id": "38bea80c",
   "metadata": {},
   "outputs": [],
   "source": [
    "df1 = pd.read_excel(offgas,\"10 OUT\")\n",
    "df2 = pd.read_excel(online, \"Data10\")"
   ]
  },
  {
   "cell_type": "code",
   "execution_count": null,
   "id": "a36036c5",
   "metadata": {},
   "outputs": [],
   "source": [
    "df1[\"Time&Date\"] = pd.to_datetime(df1[\"Time&Date\"])"
   ]
  },
  {
   "cell_type": "code",
   "execution_count": null,
   "id": "27740e8a",
   "metadata": {},
   "outputs": [],
   "source": [
    "df2[\"Timestamp\"] = pd.to_datetime(df2[\"Timestamp\"])"
   ]
  },
  {
   "cell_type": "code",
   "execution_count": null,
   "id": "b547f34c",
   "metadata": {},
   "outputs": [],
   "source": [
    "df1[\"Timestamp\"] = df1[\"Time&Date\"]"
   ]
  },
  {
   "cell_type": "code",
   "execution_count": null,
   "id": "20649b93",
   "metadata": {},
   "outputs": [],
   "source": [
    "merge_table = pd.merge_asof(df2,df1,on=\"Timestamp\",direction=\"nearest\")"
   ]
  },
  {
   "cell_type": "code",
   "execution_count": null,
   "id": "e3561dc1",
   "metadata": {},
   "outputs": [],
   "source": [
    "merge_table.to_excel(\"output3.xlsx\",\n",
    "             sheet_name='Sheet_name_1')  "
   ]
  }
 ],
 "metadata": {
  "kernelspec": {
   "display_name": "Python 3",
   "language": "python",
   "name": "python3"
  },
  "language_info": {
   "codemirror_mode": {
    "name": "ipython",
    "version": 3
   },
   "file_extension": ".py",
   "mimetype": "text/x-python",
   "name": "python",
   "nbconvert_exporter": "python",
   "pygments_lexer": "ipython3",
   "version": "3.8.8"
  }
 },
 "nbformat": 4,
 "nbformat_minor": 5
}
